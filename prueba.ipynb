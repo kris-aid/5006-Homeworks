{
 "cells": [
  {
   "cell_type": "markdown",
   "metadata": {},
   "source": [
    "Pregunta 7 prueba "
   ]
  },
  {
   "cell_type": "code",
   "execution_count": 2,
   "metadata": {},
   "outputs": [
    {
     "name": "stdout",
     "output_type": "stream",
     "text": [
      "n:  53303\n",
      "phi:  52800\n",
      "e:  7\n",
      "((7, 53303), (7543, 53303))\n"
     ]
    }
   ],
   "source": [
    "#Code to generate a private and public key pair\n",
    "def egcd(a, b):\n",
    "    x,y, u,v = 0,1, 1,0\n",
    "    while a != 0:\n",
    "        q, r = b//a, b%a\n",
    "        # print(\"a: \",a)\n",
    "        # print(\"b: \",b)\n",
    "        # print(\"q: \",q)\n",
    "        # print(\"r: \",r)\n",
    "        #print(q,r)\n",
    "        m, n = x-u*q, y-v*q\n",
    "        #print the values of m and n\n",
    "        # print(\"m: \",m)\n",
    "        # print(\"n: \",n)\n",
    "        b,a, x,y, u,v = a,r, u,v, m,n\n",
    "    gcd = b\n",
    "    return gcd, x, y\n",
    "\n",
    "def modinv(a, m):\n",
    "    gcd, x, y = egcd(a, m)\n",
    "    if gcd != 1:\n",
    "        return None  # modular inverse does not exist\n",
    "    else:\n",
    "        return x % m\n",
    "\n",
    "def generate_e(phi):\n",
    "    e = 2\n",
    "    while True:\n",
    "        if egcd(e, phi)[0] == 1:\n",
    "            return e\n",
    "            print(\"e: \",e)\n",
    "        else:\n",
    "            e += 1\n",
    "            \n",
    "def generate_keypair(p, q):\n",
    "    n = p * q\n",
    "    print(\"n: \",n)\n",
    "    phi = (p-1) * (q-1)\n",
    "    print(\"phi: \",phi)\n",
    "    e = generate_e(phi)\n",
    "    print(\"e: \",e)\n",
    "    \n",
    "    d = modinv(e, phi)\n",
    "    return ((e, n), (d, n))\n",
    "\n",
    "print(generate_keypair(151, 353))"
   ]
  },
  {
   "cell_type": "code",
   "execution_count": 5,
   "metadata": {},
   "outputs": [
    {
     "name": "stdout",
     "output_type": "stream",
     "text": [
      "n:  53303\n",
      "phi:  52800\n",
      "e:  7\n",
      "Public key:  (7, 53303)\n",
      "Private key:  (7543, 53303)\n",
      "Encrypted message: \n",
      "4560592086823157614828942520529034655245605157619208312891537314829327231399748289456054655214323\n",
      "Decrypted message: \n",
      "INFORMATION SECURITY\n"
     ]
    }
   ],
   "source": [
    "#Use ASCII to transform text into numbers, and encrypt the text \"INFORMATION SECURITY\". \n",
    "#Then decrypt the text and print it out.\n",
    "def encrypt(private_key,n, plaintext):\n",
    "    cipher = [pow(ord(char), private_key, n) for char in plaintext]\n",
    "    \n",
    "    return cipher\n",
    "def decrypt(public_key,n, ciphertext):\n",
    "    plain = [chr(pow(char, public_key, n)) for char in ciphertext]\n",
    "    return ''.join(plain)\n",
    "\n",
    "public, private = generate_keypair(151, 353)\n",
    "print(\"Public key: \", public)\n",
    "print(\"Private key: \", private)\n",
    "encrypted_msg = encrypt(private[0], private[1], \"INFORMATION SECURITY\")\n",
    "print(\"Encrypted message: \")\n",
    "print(''.join(map(lambda x: str(x), encrypted_msg)))\n",
    "\n",
    "decrypt_msg = decrypt(public[0], public[1], encrypted_msg)\n",
    "print(\"Decrypted message: \")\n",
    "print(decrypt_msg)\n",
    "\n"
   ]
  }
 ],
 "metadata": {
  "kernelspec": {
   "display_name": "Python 3",
   "language": "python",
   "name": "python3"
  },
  "language_info": {
   "codemirror_mode": {
    "name": "ipython",
    "version": 3
   },
   "file_extension": ".py",
   "mimetype": "text/x-python",
   "name": "python",
   "nbconvert_exporter": "python",
   "pygments_lexer": "ipython3",
   "version": "3.10.13"
  }
 },
 "nbformat": 4,
 "nbformat_minor": 2
}
