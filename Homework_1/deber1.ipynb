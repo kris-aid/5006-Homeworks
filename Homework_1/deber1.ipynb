{
 "cells": [
  {
   "cell_type": "markdown",
   "metadata": {},
   "source": [
    "# Homework 1 - Cryptography \n",
    "\n",
    "### Author: Kristian Mendoza\n"
   ]
  },
  {
   "cell_type": "markdown",
   "metadata": {},
   "source": [
    "## PicoCTF Exercises"
   ]
  },
  {
   "cell_type": "markdown",
   "metadata": {},
   "source": [
    "### Mind your Ps and Qs\n",
    "Decrypt my super sick RSA:\n",
    "\n",
    "c: 843044897663847841476319711639772861390329326681532977209935413827620909782846667\n",
    "\n",
    "n: 1422450808944701344261903748621562998784243662042303391362692043823716783771691667\n",
    "\n",
    "e: 65537"
   ]
  },
  {
   "cell_type": "code",
   "execution_count": 12,
   "metadata": {},
   "outputs": [
    {
     "name": "stdout",
     "output_type": "stream",
     "text": [
      "totient:  1422450808944701344261903748621562998783582944057933890341955406374353056752914016\n",
      "private key:  975120122884150896343356420256053234758228648361853546720066993334766006694511009\n",
      "message decrypted: 13016382529449106065927291425342535437996222135352905256639555294957886055592061\n",
      "hex message: 0x7069636f4354467b736d6131315f4e5f6e305f67306f645f30303236343537307d\n",
      "message to ascci:  picoCTF{sma11_N_n0_g0od_00264570}\n"
     ]
    }
   ],
   "source": [
    "\n",
    "c=843044897663847841476319711639772861390329326681532977209935413827620909782846667\n",
    "\n",
    "n= 1422450808944701344261903748621562998784243662042303391362692043823716783771691667\n",
    "\n",
    "e= 65537\n",
    "\n",
    "#%pip install factordb-pycli\n",
    "from factordb.factordb import FactorDB\n",
    "def dechypherRSA(c, n, e):\n",
    "    f = FactorDB(n)\n",
    "    f.connect()\n",
    "    coprimes=f.get_factor_list()\n",
    "    p=coprimes[0]\n",
    "    q=coprimes[1]\n",
    "    #Now we can calculate the totient\n",
    "    phi = (p-1)*(q-1)\n",
    "    print(\"totient: \",phi)\n",
    "    # now we can calculate the private key\n",
    "    # if e*d = 1 mod phi\n",
    "    # then d = e^-1 mod phi\n",
    "    d= pow(e,-1,phi)\n",
    "    print(\"private key: \",d)\n",
    "    #Now we can decrypt the message\n",
    "    m = pow(c,d,n)\n",
    "    print(\"message decrypted:\",m)\n",
    "    #Convert the message to hex\n",
    "    m_hex = hex(m)\n",
    "    print(\"hex message:\" ,m_hex)\n",
    "    #Convert the message to ascii\n",
    "    m_ascii = bytearray.fromhex(m_hex[2:]).decode()\n",
    "    print(\"message to ascci: \",m_ascii)\n",
    "dechypherRSA(c,n,e)"
   ]
  },
  {
   "cell_type": "markdown",
   "metadata": {},
   "source": [
    "### The Numbers\n",
    "The numbers... what do they mean?\n",
    "\n",
    "numbers= 16 9 3 15 3 20 6 { 20 8 5 14 21 13 2 5 18 19 13 1 19 15 14 }"
   ]
  },
  {
   "cell_type": "code",
   "execution_count": 1,
   "metadata": {},
   "outputs": [
    {
     "name": "stdout",
     "output_type": "stream",
     "text": [
      "PICOCTF{THENUMBERSMASON}\n"
     ]
    }
   ],
   "source": [
    "# I should read the numbers from image\n",
    "numbers=\"16 9 3 15 3 20 6 { 20 8 5 14 21 13 2 5 18 19 13 1 19 15 14 }\"\n",
    "def numbers_to_string(numbers):\n",
    "    numbers = numbers.split()\n",
    "    string = \"\"\n",
    "    for number in numbers:\n",
    "        if number.isdigit():\n",
    "            string += chr(int(number)+ord('A')-1)\n",
    "        else:\n",
    "            string += number\n",
    "    return string\n",
    "print(numbers_to_string(numbers))"
   ]
  },
  {
   "cell_type": "markdown",
   "metadata": {},
   "source": [
    "# Easy1\n",
    "cipher= \"UFJKXQZQUNB\", key=\"SOLVECRYPTO\""
   ]
  },
  {
   "cell_type": "code",
   "execution_count": 36,
   "metadata": {},
   "outputs": [
    {
     "name": "stdout",
     "output_type": "stream",
     "text": [
      "[[], [], [' A B C D E F G H I J K L M N O P Q R S T U V W X Y Z'], [' B C D E F G H I J K L M N O P Q R S T U V W X Y Z A'], [' C D E F G H I J K L M N O P Q R S T U V W X Y Z A B'], [' D E F G H I J K L M N O P Q R S T U V W X Y Z A B C'], [' E F G H I J K L M N O P Q R S T U V W X Y Z A B C D'], [' F G H I J K L M N O P Q R S T U V W X Y Z A B C D E'], [' G H I J K L M N O P Q R S T U V W X Y Z A B C D E F'], [' H I J K L M N O P Q R S T U V W X Y Z A B C D E F G'], [' I J K L M N O P Q R S T U V W X Y Z A B C D E F G H'], [' J K L M N O P Q R S T U V W X Y Z A B C D E F G H I'], [' K L M N O P Q R S T U V W X Y Z A B C D E F G H I J'], [' L M N O P Q R S T U V W X Y Z A B C D E F G H I J K'], [' M N O P Q R S T U V W X Y Z A B C D E F G H I J K L'], [' N O P Q R S T U V W X Y Z A B C D E F G H I J K L M'], [' O P Q R S T U V W X Y Z A B C D E F G H I J K L M N'], [' P Q R S T U V W X Y Z A B C D E F G H I J K L M N O'], [' Q R S T U V W X Y Z A B C D E F G H I J K L M N O P'], [' R S T U V W X Y Z A B C D E F G H I J K L M N O P Q'], [' S T U V W X Y Z A B C D E F G H I J K L M N O P Q R'], [' T U V W X Y Z A B C D E F G H I J K L M N O P Q R S'], [' U V W X Y Z A B C D E F G H I J K L M N O P Q R S T'], [' V W X Y Z A B C D E F G H I J K L M N O P Q R S T U'], [' W X Y Z A B C D E F G H I J K L M N O P Q R S T U V'], [' X Y Z A B C D E F G H I J K L M N O P Q R S T U V W'], [' Y Z A B C D E F G H I J K L M N O P Q R S T U V W X'], [' Z A B C D E F G H I J K L M N O P Q R S T U V W X Y'], []]\n"
     ]
    },
    {
     "ename": "IndexError",
     "evalue": "list index out of range",
     "output_type": "error",
     "traceback": [
      "\u001b[1;31m---------------------------------------------------------------------------\u001b[0m",
      "\u001b[1;31mIndexError\u001b[0m                                Traceback (most recent call last)",
      "Cell \u001b[1;32mIn[36], line 23\u001b[0m\n\u001b[0;32m     20\u001b[0m     \u001b[38;5;28;01mreturn\u001b[39;00m plain_text\n\u001b[0;32m     22\u001b[0m \u001b[38;5;66;03m# Example usage:\u001b[39;00m\n\u001b[1;32m---> 23\u001b[0m result \u001b[38;5;241m=\u001b[39m \u001b[43measy1\u001b[49m\u001b[43m(\u001b[49m\u001b[43m)\u001b[49m\n\u001b[0;32m     24\u001b[0m \u001b[38;5;28mprint\u001b[39m(\u001b[38;5;124m\"\u001b[39m\u001b[38;5;124mDecrypted Text:\u001b[39m\u001b[38;5;124m\"\u001b[39m, result)\n",
      "Cell \u001b[1;32mIn[36], line 18\u001b[0m, in \u001b[0;36measy1\u001b[1;34m(cipher, key, table)\u001b[0m\n\u001b[0;32m     16\u001b[0m \u001b[38;5;66;03m# Decrypt the cipher\u001b[39;00m\n\u001b[0;32m     17\u001b[0m \u001b[38;5;28;01mfor\u001b[39;00m i \u001b[38;5;129;01min\u001b[39;00m \u001b[38;5;28mrange\u001b[39m(\u001b[38;5;28mlen\u001b[39m(cipher)):\n\u001b[1;32m---> 18\u001b[0m     plain_text \u001b[38;5;241m+\u001b[39m\u001b[38;5;241m=\u001b[39m \u001b[43mtable_values\u001b[49m\u001b[43m[\u001b[49m\u001b[38;5;28;43mord\u001b[39;49m\u001b[43m(\u001b[49m\u001b[43mkey\u001b[49m\u001b[43m[\u001b[49m\u001b[43mi\u001b[49m\u001b[43m]\u001b[49m\u001b[43m)\u001b[49m\u001b[43m]\u001b[49m[\u001b[38;5;28mord\u001b[39m(cipher[i])]\n\u001b[0;32m     20\u001b[0m \u001b[38;5;28;01mreturn\u001b[39;00m plain_text\n",
      "\u001b[1;31mIndexError\u001b[0m: list index out of range"
     ]
    }
   ],
   "source": [
    "def easy1(cipher=\"UFJKXQZQUNB\", key=\"SOLVECRYPTO\", table=\"table.txt\"):\n",
    "    table_values = []\n",
    "\n",
    "    # Read table values from file\n",
    "    with open(table, \"r\") as f:\n",
    "        for line in f:\n",
    "            # Split each line and remove the \"|\" character at the second position\n",
    "            row_values = line.strip().split(\"|\")[1:]\n",
    "            table_values.append(row_values)\n",
    "\n",
    "    print(table_values)\n",
    "\n",
    "    # Initialize plaintext\n",
    "    plain_text = \"\"\n",
    "\n",
    "    # Decrypt the cipher\n",
    "    for i in range(len(cipher)):\n",
    "        plain_text += table_values[ord(key[i])][ord(cipher[i])]\n",
    "\n",
    "    return plain_text\n",
    "\n",
    "# Example usage:\n",
    "result = easy1()\n",
    "print(\"Decrypted Text:\", result)\n"
   ]
  },
  {
   "cell_type": "markdown",
   "metadata": {},
   "source": [
    "![EASY1](content/Easy1.png)"
   ]
  },
  {
   "cell_type": "markdown",
   "metadata": {},
   "source": [
    "## Pixelated\n",
    "I have these 2 images, can you make a flag out of them? scrambled1.png scrambled2.png"
   ]
  },
  {
   "cell_type": "code",
   "execution_count": null,
   "metadata": {},
   "outputs": [],
   "source": [
    "# -*- coding: utf-8 -*-\n",
    "\"\"\"PicoCTF Pixelated\n",
    "\n",
    "Automatically generated by Colaboratory.\n",
    "\n",
    "Original file is located at\n",
    "    https://colab.research.google.com/drive/10B8kOPwD2x_ux0z-qqzo5p9FRG851END\n",
    "\"\"\"\n",
    "\n",
    "from PIL import Image\n",
    "import numpy as np\n",
    "import os\n",
    "# Re-initialize the images after the reset\n",
    "# the images are in the content folder\n",
    "# Load the images\n",
    "current=os.getcwd()\n",
    "os.makedirs(current+'/content', exist_ok=True)\n",
    "image1_path = current+ '/content/scrambled1.png'\n",
    "\n",
    "image2_path = 'content/scrambled2.png'\n",
    "image1 = Image.open(image1_path)\n",
    "image2 = Image.open(image2_path)\n",
    "\n",
    "# Convert images to numpy arrays\n",
    "image1_array = np.array(image1)\n",
    "image2_array = np.array(image2)\n",
    "\n",
    "# Perform an element-wise XOR operation between the two images\n",
    "result_array_xor = np.bitwise_xor(image1_array, image2_array)\n",
    "\n",
    "# Change pure white (255, 255, 255) to black (0, 0, 0)\n",
    "# Pure white in an 8-bit image would be where all color channels are 255\n",
    "white_pixels = np.all(result_array_xor == [255, 255, 255], axis=-1)\n",
    "result_array_xor[white_pixels] = [0, 0, 0]\n",
    "\n",
    "# Convert the result to an image\n",
    "result_image_xor = Image.fromarray(result_array_xor)\n",
    "\n",
    "# Save the resulting image\n",
    "result_image_xor_path = 'content/result_image_xor.png'\n",
    "result_image_xor.save(result_image_xor_path)\n",
    "\n",
    "result_image_xor_path"
   ]
  },
  {
   "cell_type": "markdown",
   "metadata": {},
   "source": [
    "![Pixelated](content/result_image_xor.png)"
   ]
  },
  {
   "cell_type": "markdown",
   "metadata": {},
   "source": [
    "# No Padding, No Problem"
   ]
  },
  {
   "cell_type": "code",
   "execution_count": 7,
   "metadata": {},
   "outputs": [
    {
     "name": "stdout",
     "output_type": "stream",
     "text": [
      "Decript in the oracle: 6667242207246617958267281013949491974738487123670596969019175405626060207905898970469192394074897858990420348177805907647056092379492986057702950328709089002908084912270409901940627371866959981893072190778902595326719060085944260922872511190992569439764522617686576566254223244398138810827700875951356576304757107177504188346141031533236179481886482989251985841841326133756391013482581696581850803386535409032901657316594893456849379463781555046896908115329230323566666229981211997752451629809776245639476446824282732038411448842014602214606691813886664698517877179283741561250328237842421537421158016930079393937405 \n",
      "************************************************************\n",
      "m = picoCTF{m4yb3_Th0se_m3s54g3s_4r3_difurrent_5814368}\n"
     ]
    }
   ],
   "source": [
    "n= 138065161427101647384981033754537212727254046025418806719684003604280116393970755022953824309047352462207078906214272706272884566376783162308267134253999715619340131731254768484432068125329887361996398032682402814880327921571658486118367567926324180757817801778256451473942231996583746468357441533784627001299\n",
    "e= 65537\n",
    "c= 101596141347776290975788031993753669384018869776230313311014971438605614157639076638839661090122505772364105022010576483906298445109404051312651709048996761075039537848940224427460825118536281053146689472416974718530470113760674876127732357952346321104598177988423131724118529121570301817279203445208323340005\n",
    "m2 = 2 # any integer\n",
    "x = pow(m2, e, n) # encrypt(m2) = m2^e % n\n",
    "\n",
    "# encrypt(m1) * encrypt(m2) = encrypt(m1 * m2)\n",
    "C = c * x\n",
    "\n",
    "print(f\"Decript in the oracle: {C} \")\n",
    "# decrypt C using oracle since we dont know d to do it manually\n",
    "P = int(input('Decrypted C: '))\n",
    "\n",
    "# P / m2 = m\n",
    "m = P // m2\n",
    "m = bytearray.fromhex(format(m, 'x')).decode() #hex to ascii\n",
    "print('*'*60)\n",
    "print(f'm = {m}')"
   ]
  }
 ],
 "metadata": {
  "kernelspec": {
   "display_name": "cybersecurity-Z7yOgMbu-py3.11",
   "language": "python",
   "name": "python3"
  },
  "language_info": {
   "codemirror_mode": {
    "name": "ipython",
    "version": 3
   },
   "file_extension": ".py",
   "mimetype": "text/x-python",
   "name": "python",
   "nbconvert_exporter": "python",
   "pygments_lexer": "ipython3",
   "version": "3.11.0"
  }
 },
 "nbformat": 4,
 "nbformat_minor": 2
}
